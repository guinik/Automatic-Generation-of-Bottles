{
 "cells": [
  {
   "cell_type": "code",
   "execution_count": 68,
   "id": "1c8f274c",
   "metadata": {},
   "outputs": [],
   "source": [
    "from solid import *\n",
    "from solid.objects import *\n",
    "from solid.utils import *\n",
    "\n",
    "# Define the base design of the bottle\n",
    "def bottle(diameter, height):\n",
    "    radius = diameter/2\n",
    "    \n",
    "    outer = cylinder(r=radius, h=height)\n",
    "    inner = cylinder(r=radius-radius*9/10, h=height)\n",
    "    body= outer-inner\n",
    "    \n",
    "    \n",
    "    neck = up(height)(cylinder(r=radius/2, h=height/10))\n",
    "    return union()(body, neck)\n",
    "\n",
    "# Generate multiple designs based on different parameter values\n",
    "for i in range(10):\n",
    "    diameter = 5 + i*0.5\n",
    "    height = 10 + i*1\n",
    "    filename = f'bottle_{diameter:.1f}x{height:.1f}.scad'\n",
    "    design = bottle(diameter, height)\n",
    "    scad_render_to_file(design, filename, file_header=f'$fn = {SEGMENTS};') #leer sobre file header!!!"
   ]
  },
  {
   "cell_type": "code",
   "execution_count": 69,
   "id": "30535d2b",
   "metadata": {
    "scrolled": true
   },
   "outputs": [
    {
     "name": "stdout",
     "output_type": "stream",
     "text": [
      "E:\\SCAD\\openscad.exe -o bottle_5.0x10.0.stl bottle_5.0x10.0.scad\n",
      "E:\\SCAD\\openscad.exe -o bottle_5.5x11.0.stl bottle_5.5x11.0.scad\n",
      "E:\\SCAD\\openscad.exe -o bottle_6.0x12.0.stl bottle_6.0x12.0.scad\n",
      "E:\\SCAD\\openscad.exe -o bottle_6.5x13.0.stl bottle_6.5x13.0.scad\n",
      "E:\\SCAD\\openscad.exe -o bottle_7.0x14.0.stl bottle_7.0x14.0.scad\n",
      "E:\\SCAD\\openscad.exe -o bottle_7.5x15.0.stl bottle_7.5x15.0.scad\n",
      "E:\\SCAD\\openscad.exe -o bottle_8.0x16.0.stl bottle_8.0x16.0.scad\n",
      "E:\\SCAD\\openscad.exe -o bottle_8.5x17.0.stl bottle_8.5x17.0.scad\n",
      "E:\\SCAD\\openscad.exe -o bottle_9.0x18.0.stl bottle_9.0x18.0.scad\n",
      "E:\\SCAD\\openscad.exe -o bottle_9.5x19.0.stl bottle_9.5x19.0.scad\n",
      "E:\\SCAD\\openscad.exe -o solid.stl solid.scad\n"
     ]
    }
   ],
   "source": [
    "#HOW TO CONVERT FROM SCAD TO STD\n",
    "\n",
    "from os import listdir\n",
    "import os\n",
    "import subprocess\n",
    "\n",
    "\n",
    "\n",
    "#SINCE ITS DONE ON ANACONDA THE PATH IS DIFFERENT FOR SHELL\n",
    "#we need to give the scad directory exe\n",
    "workingdirectory='E:\\WORK'\n",
    "pathtoscad='E:\\SCAD\\openscad.exe'\n",
    "files = listdir(workingdirectory)\n",
    "os.chdir(workingdirectory)\n",
    "for f in files:\n",
    "    if f.find(\".scad\") >= 0:\n",
    "        filename=os.path.splitext(f)[0]\n",
    "        resultname=filename+ '.stl'\n",
    "        realname=filename + '.scad'\n",
    "        result=pathtoscad + ' -o ' + resultname + ' ' + realname\n",
    "        #result=result.split(' ')\n",
    "        print(result)\n",
    "        #subprocess.run(['openscad','-o','bottle_7.0x14.0.stl', 'bottle_7.0x14.0.scad'],shell='True')\n",
    "        subprocess.check_output(result, shell=True)\n",
    "        "
   ]
  },
  {
   "cell_type": "code",
   "execution_count": null,
   "id": "97468f0c",
   "metadata": {},
   "outputs": [],
   "source": []
  }
 ],
 "metadata": {
  "kernelspec": {
   "display_name": "Python 3 (ipykernel)",
   "language": "python",
   "name": "python3"
  },
  "language_info": {
   "codemirror_mode": {
    "name": "ipython",
    "version": 3
   },
   "file_extension": ".py",
   "mimetype": "text/x-python",
   "name": "python",
   "nbconvert_exporter": "python",
   "pygments_lexer": "ipython3",
   "version": "3.9.13"
  }
 },
 "nbformat": 4,
 "nbformat_minor": 5
}
