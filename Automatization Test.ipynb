{
 "cells": [
  {
   "cell_type": "code",
   "execution_count": 22,
   "id": "6e24a978",
   "metadata": {},
   "outputs": [],
   "source": [
    "from solid import *\n",
    "from solid.utils import *\n",
    "import os\n",
    "from solid.objects import *\n",
    "import subprocess"
   ]
  },
  {
   "cell_type": "code",
   "execution_count": 72,
   "id": "8095e575",
   "metadata": {},
   "outputs": [],
   "source": [
    "base=import_stl('E:\\WORK\\Done scad\\Bottle test\\Base\\Base.stl')#Exact coordinates are z=6(when erasing -0.1) radius=1.4\n",
    "tapon=import_stl('E:\\WORK\\Done scad\\Bottle test\\Tapon\\Tapon.stl') #Exact coordinates are z=6.7(when erasing -0.1) radius=0.41 \n",
    "#we also need to erase the top part so it is fully hollow !\n",
    "topplane=cube(size=[10,10,0.1],center=True)\n",
    "bottomplane=cube(size=[10,10,0.1],center=True)\n",
    "base=base-up(6)(topplane)\n",
    "tapon=tapon-up(6.6)(bottomplane)\n",
    "connect=cylinder(r1=1.4,r2=0.41,h=0.75)\n",
    "connect=connect-cylinder(r1=1.3,r2=0.31,h=0.75)\n",
    "obj=base+tapon+up(5.95)(connect)"
   ]
  },
  {
   "cell_type": "code",
   "execution_count": 73,
   "id": "b5176011",
   "metadata": {},
   "outputs": [
    {
     "data": {
      "text/plain": [
       "'E:/WORK/Done scad/Bottle test/Results/Done.scad'"
      ]
     },
     "execution_count": 73,
     "metadata": {},
     "output_type": "execute_result"
    }
   ],
   "source": [
    "scad_render_to_file(obj, 'E:\\WORK\\Done scad\\Bottle test\\Results\\Done.scad',file_header='$fn=64;') "
   ]
  },
  {
   "cell_type": "code",
   "execution_count": 75,
   "id": "2384809e",
   "metadata": {},
   "outputs": [
    {
     "data": {
      "text/plain": [
       "b''"
      ]
     },
     "execution_count": 75,
     "metadata": {},
     "output_type": "execute_result"
    }
   ],
   "source": [
    "workingdirectory='E:\\WORK\\Done scad\\Bottle test\\Results'\n",
    "pathtoscad='E:\\SCAD\\openscad.exe'\n",
    "os.chdir(workingdirectory)\n",
    "\n",
    "filename='Done'\n",
    "resultname=filename+ '.stl'\n",
    "realname=filename + '.scad'\n",
    "result=pathtoscad + ' -o ' + resultname + ' ' + realname\n",
    "subprocess.check_output(result, shell=True)"
   ]
  },
  {
   "cell_type": "markdown",
   "id": "30472fa2",
   "metadata": {},
   "source": [
    "# Now we just need to iterate through scaled versions, we will do first scaled versions of the base"
   ]
  },
  {
   "cell_type": "code",
   "execution_count": 90,
   "id": "44fc68d7",
   "metadata": {},
   "outputs": [],
   "source": [
    "for i in range(10):\n",
    "    Basesize=1.4*2**i\n",
    "    Taponsize=0.41\n",
    "    base=import_stl('E:\\WORK\\Done scad\\Bottle test\\Base\\Base.stl')#Exact coordinates are z=6(when erasing -0.1) radius=1.4\n",
    "    tapon=import_stl('E:\\WORK\\Done scad\\Bottle test\\Tapon\\Tapon.stl') #Exact coordinates are z=6.7(when erasing -0.1) radius=0.41 \n",
    "    #we also need to erase the top part so it is fully hollow !\n",
    "    topplane=cube(size=[10,10,0.1],center=True)\n",
    "    bottomplane=cube(size=[10,10,0.1],center=True)\n",
    "    base=base-up(6)(topplane)\n",
    "    tapon=tapon-up(6.6)(bottomplane)\n",
    "    base=scale(2**i)(base)\n",
    "    \n",
    "    \n",
    "    connect=cylinder(r1=1.4*2**i,r2=0.41,h=0.75)\n",
    "    connect=connect-cylinder(r1=1.3*2**i,r2=0.31,h=0.75)\n",
    "    obj=base+up(6*(2**i-1))(tapon)+up(5.95+ 6*(2**i-1))(connect)\n",
    "    scad_render_to_file(obj, f'E:\\WORK\\Done scad\\Bottle test\\Results\\ResultScad_Base{Basesize}_Taponsize{Taponsize}.scad',file_header='$fn=64;') \n",
    "    "
   ]
  },
  {
   "cell_type": "code",
   "execution_count": 91,
   "id": "b6661805",
   "metadata": {},
   "outputs": [],
   "source": [
    "#This loop works for factor of two. Lets implement it so we get a give a scale value"
   ]
  },
  {
   "cell_type": "code",
   "execution_count": 96,
   "id": "94d6f221",
   "metadata": {},
   "outputs": [],
   "source": [
    "def randombasescale(num_examples,scale_factor):\n",
    "    for i in range(num_examples):\n",
    "        Basesize=1.4*scale_factor**i\n",
    "        Taponsize=0.41\n",
    "        base=import_stl('E:\\WORK\\Done scad\\Bottle test\\Base\\Base.stl')#Exact coordinates are z=6(when erasing -0.1) radius=1.4\n",
    "        tapon=import_stl('E:\\WORK\\Done scad\\Bottle test\\Tapon\\Tapon.stl') #Exact coordinates are z=6.7(when erasing -0.1) radius=0.41 \n",
    "        #we also need to erase the top part so it is fully hollow !\n",
    "        topplane=cube(size=[10,10,0.1],center=True)\n",
    "        bottomplane=cube(size=[10,10,0.1],center=True)\n",
    "        base=base-up(6)(topplane)\n",
    "        tapon=tapon-up(6.6)(bottomplane)\n",
    "        base=scale(scale_factor**i)(base)\n",
    "\n",
    "\n",
    "        connect=cylinder(r1=1.4*scale_factor**i,r2=0.41,h=0.75)\n",
    "        connect=connect-cylinder(r1=1.3*scale_factor**i,r2=0.31,h=0.75)\n",
    "        obj=base+up(6*(scale_factor**i-1))(tapon)+up(5.95+ 6*(scale_factor**i-1))(connect)\n",
    "        scad_render_to_file(obj, f'E:\\WORK\\Done scad\\Bottle test\\Results\\ResultScad_Base{Basesize}_Taponsize{Taponsize}.scad',file_header='$fn=64;') \n"
   ]
  },
  {
   "cell_type": "code",
   "execution_count": 98,
   "id": "fa0c5a7f",
   "metadata": {},
   "outputs": [],
   "source": [
    "randombasescale(5,0.75)\n",
    "#And it works Perfectly"
   ]
  },
  {
   "cell_type": "markdown",
   "id": "f4fe41a5",
   "metadata": {},
   "source": [
    "Finally we do the same procedure to the tapon!"
   ]
  },
  {
   "cell_type": "code",
   "execution_count": 114,
   "id": "c0275120",
   "metadata": {},
   "outputs": [],
   "source": [
    "def randombasescale(num_examples_squared,scale_factor_base,scale_factor_tapon):\n",
    "    for i in range(num_examples_squared):\n",
    "        for j in range(num_examples_squared):\n",
    "            Basesize=1.4*scale_factor_base**i\n",
    "            Taponsize=0.41*scale_factor_tapon**j\n",
    "            base=import_stl('E:\\WORK\\Done scad\\Bottle test\\Base\\Base.stl')#Exact coordinates are z=6(when erasing -0.1) radius=1.4\n",
    "            tapon=import_stl('E:\\WORK\\Done scad\\Bottle test\\Tapon\\Tapon.stl') #Exact coordinates are z=6.7(when erasing -0.1) radius=0.41 \n",
    "            #we also need to erase the top part so it is fully hollow !\n",
    "            topplane=cube(size=[10,10,0.1],center=True)\n",
    "            bottomplane=cube(size=[10,10,0.1],center=True)\n",
    "            base=base-up(6)(topplane)\n",
    "            tapon=tapon-up(6.6)(bottomplane)\n",
    "            base=scale(scale_factor_base**i)(base)\n",
    "            tapon=scale(scale_factor_tapon**j)(tapon)\n",
    "\n",
    "\n",
    "            connect=cylinder(r1=1.4*scale_factor_base**i,r2=0.41*scale_factor_tapon**j,h=0.75+ 6.7*(scale_factor_tapon**j-1)) #IMPORTANT\n",
    "            #CONSIDER THAT THE DIFFERENCE BETWEEN RADIUS IS GONNA INCREASE, AS DOES THE BASE AND TAPON \n",
    "            connect=connect-cylinder(r1=1.3*scale_factor_base**i,r2=0.31*scale_factor_tapon**j,h=0.75 + 6.7*(scale_factor_tapon**j-1))\n",
    "            obj=base+up(6*(scale_factor_base**i-1))(tapon)+up(5.95+ 6*(scale_factor_base**i-1))(connect)\n",
    "            scad_render_to_file(obj, f'E:\\WORK\\Done scad\\Bottle test\\Results\\ResultScad_Base{Basesize}_Taponsize{Taponsize}.scad',file_header='$fn=64;') \n"
   ]
  },
  {
   "cell_type": "code",
   "execution_count": 115,
   "id": "1b13d1a3",
   "metadata": {},
   "outputs": [],
   "source": [
    "randombasescale(5,1.2,1.5)"
   ]
  },
  {
   "cell_type": "code",
   "execution_count": 116,
   "id": "5937375e",
   "metadata": {},
   "outputs": [],
   "source": [
    "#Now we create the stl!!"
   ]
  },
  {
   "cell_type": "code",
   "execution_count": null,
   "id": "2f2777d1",
   "metadata": {},
   "outputs": [
    {
     "name": "stdout",
     "output_type": "stream",
     "text": [
      "E:\\SCAD\\openscad.exe -o Done.stl Done.scad\n",
      "E:\\SCAD\\openscad.exe -o ResultScad_Base1.4_Taponsize0.41.stl ResultScad_Base1.4_Taponsize0.41.scad\n",
      "E:\\SCAD\\openscad.exe -o ResultScad_Base1.4_Taponsize0.615.stl ResultScad_Base1.4_Taponsize0.615.scad\n"
     ]
    }
   ],
   "source": [
    "from os import listdir\n",
    "import os\n",
    "import subprocess\n",
    "\n",
    "\n",
    "\n",
    "#SINCE ITS DONE ON ANACONDA THE PATH IS DIFFERENT FOR SHELL\n",
    "#we need to give the scad directory exe\n",
    "workingdirectory='E:\\WORK\\Done scad\\Bottle test\\Results'\n",
    "pathtoscad='E:\\SCAD\\openscad.exe'\n",
    "files = listdir(workingdirectory)\n",
    "os.chdir(workingdirectory)\n",
    "for f in files:\n",
    "    if f.find(\".scad\") >= 0:\n",
    "        filename=os.path.splitext(f)[0]\n",
    "        resultname=filename+ '.stl'\n",
    "        realname=filename + '.scad'\n",
    "        result=pathtoscad + ' -o ' + resultname + ' ' + realname\n",
    "        print(result)\n",
    "        subprocess.check_output(result, shell=True)\n",
    "        "
   ]
  },
  {
   "cell_type": "code",
   "execution_count": null,
   "id": "2a3e4380",
   "metadata": {},
   "outputs": [],
   "source": []
  }
 ],
 "metadata": {
  "kernelspec": {
   "display_name": "Python 3 (ipykernel)",
   "language": "python",
   "name": "python3"
  },
  "language_info": {
   "codemirror_mode": {
    "name": "ipython",
    "version": 3
   },
   "file_extension": ".py",
   "mimetype": "text/x-python",
   "name": "python",
   "nbconvert_exporter": "python",
   "pygments_lexer": "ipython3",
   "version": "3.9.13"
  }
 },
 "nbformat": 4,
 "nbformat_minor": 5
}
